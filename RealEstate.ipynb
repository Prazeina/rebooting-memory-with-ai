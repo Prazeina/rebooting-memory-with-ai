{
 "cells": [
  {
   "cell_type": "markdown",
   "metadata": {
    "deletable": false,
    "editable": false,
    "nbgrader": {
     "checksum": "842a7edc9d524572c2465abc4c0e0f84",
     "grade": false,
     "grade_id": "cell-d4070a70a9a793d2",
     "locked": true,
     "schema_version": 1,
     "solution": false
    }
   },
   "source": [
    "# Assignment 1: Building ML Regression Model For Predictions\n",
    "\n",
    "<b> Due Date : Feb 22, Friday, 9am\n",
    "100 points </b>\n",
    "\n",
    "In this homework, we are going to build a linear regression model on housing prices dataset. We want to use metrics about Real Estate to predict the price per square foot of the house. You will first build a simple model with one parameter, which will create a one dimensional linear regression that we can visualize. Afterwards, you will improve on the regression model to include more paramters. \n",
    "\n",
    "# IMPORTANT \n",
    "\n",
    "You are welcome to debug any way you wish, but you cannot modify the debugging examples. If they do not work, then you must try to figure out how to make them work. Those debugging examples are important! Run them before grading your problems too.\n",
    "\n",
    "Write your code in the `#TODO` sections. Follow the directions accurately, especially when we ask naming conventions. "
   ]
  },
  {
   "cell_type": "markdown",
   "metadata": {
    "deletable": false,
    "editable": false,
    "nbgrader": {
     "checksum": "204011a51fcd09ab049e3fe2bd7fb757",
     "grade": false,
     "grade_id": "cell-5900fa0d06766c54",
     "locked": true,
     "schema_version": 1,
     "solution": false
    }
   },
   "source": [
    "# 1. Load data into a Pandas DataFrame (14 points)\n",
    "\n",
    "We begin by loading the data. Read the csv file, 'RealEstate.csv', and store this as a data frame in the variable `data`.  When dealing with a large dataset, you may get a `DtypeWarning`. For our case, do not worry about this: we have confirmed that the data is okay and this warning can be ignored.\n",
    "\n"
   ]
  },
  {
   "cell_type": "code",
   "execution_count": 31,
   "metadata": {
    "deletable": false,
    "nbgrader": {
     "checksum": "de5d307dcac7ee374a490fb293d22ad3",
     "grade": false,
     "grade_id": "loadData",
     "locked": false,
     "schema_version": 1,
     "solution": true
    }
   },
   "outputs": [
    {
     "name": "stdout",
     "output_type": "stream",
     "text": [
      "Requirement already satisfied: pandas in /opt/homebrew/lib/python3.10/site-packages (2.3.1)\n",
      "Requirement already satisfied: numpy in /opt/homebrew/lib/python3.10/site-packages (2.2.6)\n",
      "Requirement already satisfied: matplotlib in /opt/homebrew/lib/python3.10/site-packages (3.10.5)\n",
      "Requirement already satisfied: scikit-learn in /opt/homebrew/lib/python3.10/site-packages (1.7.1)\n",
      "Requirement already satisfied: python-dateutil>=2.8.2 in /opt/homebrew/lib/python3.10/site-packages (from pandas) (2.8.2)\n",
      "Requirement already satisfied: pytz>=2020.1 in /opt/homebrew/lib/python3.10/site-packages (from pandas) (2025.2)\n",
      "Requirement already satisfied: tzdata>=2022.7 in /opt/homebrew/lib/python3.10/site-packages (from pandas) (2025.2)\n",
      "Requirement already satisfied: contourpy>=1.0.1 in /opt/homebrew/lib/python3.10/site-packages (from matplotlib) (1.3.2)\n",
      "Requirement already satisfied: cycler>=0.10 in /opt/homebrew/lib/python3.10/site-packages (from matplotlib) (0.12.1)\n",
      "Requirement already satisfied: fonttools>=4.22.0 in /opt/homebrew/lib/python3.10/site-packages (from matplotlib) (4.59.0)\n",
      "Requirement already satisfied: kiwisolver>=1.3.1 in /opt/homebrew/lib/python3.10/site-packages (from matplotlib) (1.4.8)\n",
      "Requirement already satisfied: packaging>=20.0 in /opt/homebrew/lib/python3.10/site-packages (from matplotlib) (23.0)\n",
      "Requirement already satisfied: pillow>=8 in /opt/homebrew/lib/python3.10/site-packages (from matplotlib) (11.3.0)\n",
      "Requirement already satisfied: pyparsing>=2.3.1 in /opt/homebrew/lib/python3.10/site-packages (from matplotlib) (3.2.3)\n",
      "Requirement already satisfied: scipy>=1.8.0 in /opt/homebrew/lib/python3.10/site-packages (from scikit-learn) (1.15.3)\n",
      "Requirement already satisfied: joblib>=1.2.0 in /opt/homebrew/lib/python3.10/site-packages (from scikit-learn) (1.5.1)\n",
      "Requirement already satisfied: threadpoolctl>=3.1.0 in /opt/homebrew/lib/python3.10/site-packages (from scikit-learn) (3.6.0)\n",
      "Requirement already satisfied: six>=1.5 in /Users/prazeina/Library/Python/3.10/lib/python/site-packages (from python-dateutil>=2.8.2->pandas) (1.17.0)\n",
      "\n",
      "\u001b[1m[\u001b[0m\u001b[34;49mnotice\u001b[0m\u001b[1;39;49m]\u001b[0m\u001b[39;49m A new release of pip is available: \u001b[0m\u001b[31;49m24.2\u001b[0m\u001b[39;49m -> \u001b[0m\u001b[32;49m25.2\u001b[0m\n",
      "\u001b[1m[\u001b[0m\u001b[34;49mnotice\u001b[0m\u001b[1;39;49m]\u001b[0m\u001b[39;49m To update, run: \u001b[0m\u001b[32;49mpython3.10 -m pip install --upgrade pip\u001b[0m\n",
      "Note: you may need to restart the kernel to use updated packages.\n"
     ]
    }
   ],
   "source": [
    "%pip install pandas numpy matplotlib scikit-learn \n",
    "import pandas as pd  \n",
    "import numpy as np  \n",
    "import matplotlib.pyplot as plt  \n",
    "import math\n",
    "from sklearn.model_selection import train_test_split \n",
    "from sklearn.linear_model import LinearRegression\n",
    "from sklearn import metrics\n",
    "\n",
    "# TODO\n",
    "data = pd.read_csv(\"RealEstate.csv\")\n",
    "# raise NotImplementedError()\n"
   ]
  },
  {
   "cell_type": "code",
   "execution_count": 32,
   "metadata": {
    "deletable": false,
    "editable": false,
    "nbgrader": {
     "checksum": "16b67c785544356c425e549e39e3b12f",
     "grade": false,
     "grade_id": "cell-3e4e6bf5729af16f",
     "locked": true,
     "schema_version": 1,
     "solution": false
    }
   },
   "outputs": [
    {
     "name": "stdout",
     "output_type": "stream",
     "text": [
      "   No  Transaction date  House age  Distance to the nearest MRT station  \\\n",
      "0   1          2012.917       32.0                             84.87882   \n",
      "1   2          2012.917       19.5                            306.59470   \n",
      "2   3          2013.583       13.3                            561.98450   \n",
      "3   4          2013.500       13.3                            561.98450   \n",
      "4   5          2012.833        5.0                            390.56840   \n",
      "\n",
      "   Number of convenience stores  Latitude  Longitude  House price of unit area  \n",
      "0                            10  24.98298  121.54024                      37.9  \n",
      "1                             9  24.98034  121.53951                      42.2  \n",
      "2                             5  24.98746  121.54391                      47.3  \n",
      "3                             5  24.98746  121.54391                      54.8  \n",
      "4                             5  24.97937  121.54245                      43.1  \n"
     ]
    }
   ],
   "source": [
    "# This is the tester coad to load out file\n",
    "print(data.head())"
   ]
  },
  {
   "cell_type": "code",
   "execution_count": 33,
   "metadata": {
    "deletable": false,
    "editable": false,
    "nbgrader": {
     "checksum": "bc07ef852cbade6500ea7fa604813693",
     "grade": false,
     "grade_id": "cell-fb07bf317599be41",
     "locked": true,
     "schema_version": 1,
     "solution": false
    }
   },
   "outputs": [
    {
     "data": {
      "image/png": "[encoded data removed]",
      "text/plain": [
       "<Figure size 640x480 with 1 Axes>"
      ]
     },
     "metadata": {},
     "output_type": "display_data"
    }
   ],
   "source": [
    "# This is to visualize the data of number of words and shares\n",
    "# This shouldnt look like a good linear plot. Though we will \n",
    "# use this for now.\n",
    "data.plot(x='House age', y='House price of unit area', style='o')  \n",
    "plt.xlabel('House age')  \n",
    "plt.ylabel('House price of unit area')  \n",
    "plt.show()"
   ]
  },
  {
   "cell_type": "markdown",
   "metadata": {
    "deletable": false,
    "editable": false,
    "nbgrader": {
     "checksum": "0f8c25f2d5a105f37bb55d62a64150ac",
     "grade": false,
     "grade_id": "cell-66dfbd85f2a8f222",
     "locked": true,
     "schema_version": 1,
     "solution": false
    }
   },
   "source": [
    "# Extract the Data Features (14 points)\n",
    "\n",
    "Now, we are going to start with the two dimensional comparison of House age and House price per unit area. Store in the variable `selected_data` the new data frame with the columns of House age and House price per unit area."
   ]
  },
  {
   "cell_type": "code",
   "execution_count": 34,
   "metadata": {
    "deletable": false,
    "nbgrader": {
     "checksum": "88a999ae91c37a65a270cdbe86ca6777",
     "grade": false,
     "grade_id": "select",
     "locked": false,
     "schema_version": 1,
     "solution": true
    }
   },
   "outputs": [],
   "source": [
    "selected_data = data[['House age', 'House price of unit area']]"
   ]
  },
  {
   "cell_type": "code",
   "execution_count": 35,
   "metadata": {
    "deletable": false,
    "editable": false,
    "nbgrader": {
     "checksum": "4dbe37bd02a9243c9ea4be05607f68a8",
     "grade": false,
     "grade_id": "cell-bf4a97bed75796eb",
     "locked": true,
     "schema_version": 1,
     "solution": false
    }
   },
   "outputs": [
    {
     "name": "stdout",
     "output_type": "stream",
     "text": [
      "     House age  House price of unit area\n",
      "0         32.0                      37.9\n",
      "1         19.5                      42.2\n",
      "2         13.3                      47.3\n",
      "3         13.3                      54.8\n",
      "4          5.0                      43.1\n",
      "..         ...                       ...\n",
      "409       13.7                      15.4\n",
      "410        5.6                      50.0\n",
      "411       18.8                      40.6\n",
      "412        8.1                      52.5\n",
      "413        6.5                      63.9\n",
      "\n",
      "[414 rows x 2 columns]\n"
     ]
    }
   ],
   "source": [
    "print(selected_data)"
   ]
  },
  {
   "cell_type": "markdown",
   "metadata": {
    "deletable": false,
    "editable": false,
    "nbgrader": {
     "checksum": "44a219e3a6fe1e89c03cf413afae51b9",
     "grade": false,
     "grade_id": "cell-03f05b329ecfd8b9",
     "locked": true,
     "schema_version": 1,
     "solution": false
    }
   },
   "source": [
    "# Train and Test Split (14 points)\n",
    "\n",
    "Now we need to split the data for training and testing. Training data will be used to build our regression model, and testing will be to used how good our model is. Never touch the testing data until the very end. Use a 20% test to train split ratio. Recall `pd.dataFrame.drop()`\n",
    "\n",
    "So here, we need 4 variables with the respective data split. x_train, y_train, x_test, y_test."
   ]
  },
  {
   "cell_type": "code",
   "execution_count": 36,
   "metadata": {
    "deletable": false,
    "nbgrader": {
     "checksum": "8a15408510b9f5329bcae65ded704212",
     "grade": false,
     "grade_id": "ttSplit",
     "locked": false,
     "schema_version": 1,
     "solution": true
    }
   },
   "outputs": [],
   "source": [
    "x = selected_data[['House age']]  \n",
    "y = selected_data['House price of unit area'] \n",
    "x_train, x_test, y_train, y_test = train_test_split(x, y, test_size=0.2, random_state=42)"
   ]
  },
  {
   "cell_type": "code",
   "execution_count": 37,
   "metadata": {
    "deletable": false,
    "editable": false,
    "nbgrader": {
     "checksum": "9b86c38083a346ee2a43c7efea87a9d3",
     "grade": false,
     "grade_id": "cell-b753ecaaf8f08345",
     "locked": true,
     "schema_version": 1,
     "solution": false
    }
   },
   "outputs": [
    {
     "name": "stdout",
     "output_type": "stream",
     "text": [
      "(331, 1) (331,) (83, 1) (83,)\n",
      "Percentage of split: 20.04830917874396%\n"
     ]
    }
   ],
   "source": [
    "print(x_train.shape, y_train.shape, x_test.shape, y_test.shape)\n",
    "print(\"Percentage of split: {}%\".format(100 * x_test.shape[0] / (x_train.shape[0] + x_test.shape[0])))"
   ]
  },
  {
   "cell_type": "markdown",
   "metadata": {
    "deletable": false,
    "editable": false,
    "nbgrader": {
     "checksum": "6a412505efbe0826d1eb6fecfd6a8e49",
     "grade": false,
     "grade_id": "cell-d82b10d5838ca832",
     "locked": true,
     "schema_version": 1,
     "solution": false
    }
   },
   "source": [
    "# Build a Linear Regression Model using sklearn (14 points)\n",
    "\n",
    "Build a function called `generateModel` that when given a tuple of training data, it fits a linear model to the data. It should return the `LinearRegression` object from `sklearn`. Note, it must be fitted to some given data, and must return the model. We will use this function to fit our data. The paramters passed are `x,y` , where x is the dependent variables in the model and y is the target variable."
   ]
  },
  {
   "cell_type": "code",
   "execution_count": 38,
   "metadata": {
    "deletable": false,
    "nbgrader": {
     "checksum": "b27098b096d5bd54413f710f3947b55d",
     "grade": false,
     "grade_id": "generateModel",
     "locked": false,
     "schema_version": 1,
     "solution": true
    }
   },
   "outputs": [],
   "source": [
    "def generateModel(x,y):\n",
    "    model = LinearRegression()\n",
    "    model.fit(x,y)\n",
    "    return model"
   ]
  },
  {
   "cell_type": "code",
   "execution_count": 39,
   "metadata": {
    "deletable": false,
    "editable": false,
    "nbgrader": {
     "checksum": "87812a43b6bbd4bfd713d5d9973f1dba",
     "grade": false,
     "grade_id": "cell-5c178e2d36e3131a",
     "locked": true,
     "schema_version": 1,
     "solution": false
    }
   },
   "outputs": [
    {
     "name": "stdout",
     "output_type": "stream",
     "text": [
      "House price of unit area = -0.25978(House age) + 42.88289\n"
     ]
    }
   ],
   "source": [
    "# This test prints the equation of your model.\n",
    "\n",
    "regressor = generateModel(x_train, y_train)\n",
    "\n",
    "eq = \"House price of unit area = \"\n",
    "i = 0\n",
    "for col in x_train.columns:\n",
    "    eq += str(regressor.coef_[i])[:8] + \"({}) + \".format(col)\n",
    "    i+=1\n",
    "eq += str(regressor.intercept_)[:8]\n",
    "\n",
    "print(eq)"
   ]
  },
  {
   "cell_type": "markdown",
   "metadata": {
    "deletable": false,
    "editable": false,
    "nbgrader": {
     "checksum": "2e71dd2d52b96a8c281353f2e900c220",
     "grade": false,
     "grade_id": "cell-26acca21d512e37f",
     "locked": true,
     "schema_version": 1,
     "solution": false
    }
   },
   "source": [
    "# Predict Values for Test Set Using Regression Model and Reports the Square Error(14 points)\n",
    "\n",
    "Now that we have a working LinearRegression model, we can start using it to spit outputs and measure how good it is. Create two variables called `predicted_values` and `error`. \n",
    "\n",
    "`predicted_values` should hold the values predicted for the test set.\n",
    "`error` should measure the Mean Square Error of our predictions."
   ]
  },
  {
   "cell_type": "code",
   "execution_count": 40,
   "metadata": {
    "deletable": false,
    "nbgrader": {
     "checksum": "404cb1a8e6f6c20a88c0ad96d9a1083d",
     "grade": false,
     "grade_id": "error",
     "locked": false,
     "schema_version": 1,
     "solution": true
    }
   },
   "outputs": [],
   "source": [
    "from sklearn.metrics import mean_squared_error\n",
    "predicted_values = regressor.predict(x_test)\n",
    "error = mean_squared_error(y_test,predicted_values)"
   ]
  },
  {
   "cell_type": "code",
   "execution_count": 41,
   "metadata": {
    "deletable": false,
    "editable": false,
    "nbgrader": {
     "checksum": "077f775947ca26b3e59a310b76194789",
     "grade": false,
     "grade_id": "cell-bb89c3e5685681bd",
     "locked": true,
     "schema_version": 1,
     "solution": false
    }
   },
   "outputs": [
    {
     "name": "stdout",
     "output_type": "stream",
     "text": [
      "MSE: 165.2051150828318\n"
     ]
    },
    {
     "data": {
      "image/png": "[encoded data removed]",
      "text/plain": [
       "<Figure size 640x480 with 1 Axes>"
      ]
     },
     "metadata": {},
     "output_type": "display_data"
    }
   ],
   "source": [
    "#This tests your predictions and visualizes them\n",
    "print(\"MSE: {}\".format(error))\n",
    "\n",
    "plt.scatter(x_test, y_test,  color='gray')\n",
    "plt.plot(x_test, predicted_values, color='red', linewidth=2)\n",
    "plt.show()"
   ]
  },
  {
   "cell_type": "markdown",
   "metadata": {
    "deletable": false,
    "editable": false,
    "nbgrader": {
     "checksum": "fd7e26396b01001e52cd55d6c1b361ba",
     "grade": false,
     "grade_id": "cell-ad9e4ec744937713",
     "locked": true,
     "schema_version": 1,
     "solution": false
    }
   },
   "source": [
    "# Higher Dimensional Regression (30 points)\n",
    "\n",
    "As we can see, the linear fit isnt quite good enough. For the purpose of this assignment, we want you to practice working with the coding language and fitting different parameters. One option is indeed to remove the outlier contributing to the big MSE, which would suffice, but lets assume we can't do that. Then We either need a different fit, or different dimensions to compare. Lets do the latter. We can extend everything now to a higher dimensional situation. We can include more parameters, or different ones. Lets use the former: more parameters (which also means different, technically).\n",
    "\n",
    "For this, you will rebuild everything but now with a deeper LinearRegression model. You've done all the steps already, you'll just have to make small tweeks. Do not resplit the data. While there is a thing called validation split, we will not be doing this. You are however advised to look up what validation splitting is, as in practice we have train/validation/test split. \n",
    "\n",
    "If you resplit the data between train/test each time for repetitive testing, then you are losing the testing set. One option is to always split such that you use the LAST 20% of the data as test, but that is statistically invalid since you incorporate some bias - it must be random. Thus, you are just doing a train/validation set and over fitting your model highly. \n",
    "\n",
    "Therefore, you need to figure out how to add back in the columns to your x_train and x_test. As a hint, notice how (if you truly did the splitting correctly) each data entry has an index tag. These tags can be used to lookup the original data dataframe and pull the extra columns. You may need to refer to extra documentation for this. Like most things in computer science, feel free to research as much as you need!\n",
    "\n",
    "\n",
    "\n",
    "Please make the following variables. \n",
    "`hd_x_train` - the column updated training data\n",
    "\n",
    "`hd_x_test` - the column updated test data\n",
    "\n",
    "`hd_model` - the `LinearRegression` model with greater than 2 dimensions.\n",
    "\n",
    "`hd_predictions` - the predicted values of this new model\n",
    "\n",
    "`hd_error` - the MSE of the higher dimensional model\n",
    "\n",
    "`hd_features` - a list of strings of the features (columns) used for the dependent variables. The target is still Housing price of unit area.\n"
   ]
  },
  {
   "cell_type": "markdown",
   "metadata": {},
   "source": [
    "* Find your old x_train and x_test\n",
    "* Get more features (columns) from your original dataset and add them.\n",
    "* Train a new LinearRegression model on hd_x_train.\n",
    "* Predict on hd_x_test and calculate the MSE.\n",
    "* Save all these things into the variables they told you."
   ]
  },
  {
   "cell_type": "code",
   "execution_count": 42,
   "metadata": {
    "deletable": false,
    "nbgrader": {
     "checksum": "1fb6b85b628007fcd38a38d6c09d915b",
     "grade": false,
     "grade_id": "higherDimensions",
     "locked": false,
     "schema_version": 1,
     "solution": true
    }
   },
   "outputs": [],
   "source": [
    "# Drop 'No' (ID column) and the target column to get features\n",
    "target_col = 'House price of unit area'\n",
    "drop_cols = ['No', target_col]\n",
    "\n",
    "# Features for the higher-dimensional model\n",
    "hd_features = [c for c in data.columns if c not in drop_cols]\n",
    "\n",
    "# Use the same train/test rows as before, but with more columns\n",
    "hd_x_train = data.loc[x_train.index, hd_features]\n",
    "hd_x_test = data.loc[x_test.index, hd_features]\n",
    "\n",
    "# Targets stay the same\n",
    "hd_y_train = y_train\n",
    "hd_y_test = y_test\n",
    "\n",
    "# Train the new higher-dimensional Linear Regression model\n",
    "hd_model = LinearRegression()\n",
    "hd_model.fit(hd_x_train, hd_y_train)\n",
    "\n",
    "# Predictions and MSE\n",
    "hd_predictions = hd_model.predict(hd_x_test)\n",
    "from sklearn.metrics import mean_squared_error\n",
    "hd_error = mean_squared_error(hd_y_test, hd_predictions)"
   ]
  },
  {
   "cell_type": "code",
   "execution_count": 43,
   "metadata": {
    "deletable": false,
    "editable": false,
    "nbgrader": {
     "checksum": "6d38ba0132d0c75db34a8266c62ef121",
     "grade": false,
     "grade_id": "cell-50219b0786901646",
     "locked": true,
     "schema_version": 1,
     "solution": false
    }
   },
   "outputs": [
    {
     "data": {
      "image/png": "[encoded data removed]",
      "text/plain": [
       "<Figure size 1000x800 with 1 Axes>"
      ]
     },
     "metadata": {},
     "output_type": "display_data"
    }
   ],
   "source": [
    "\n",
    "#Use this if you want to visiualize your data. It might be wise to see how well you feel your MSE is.\n",
    "regressor, y_pred, err, cols= (hd_model, hd_predictions, hd_error, hd_features)\n",
    "df = pd.DataFrame({'Actual': y_test.values, 'Predicted': y_pred}) #A new data frame between test and predictions\n",
    "df1 = df.head(25) #The number indicates how many of the first predicitons to compare to true values.\n",
    "df1.plot(kind='bar',figsize=(10,8))\n",
    "plt.grid(which='major', linestyle='-', linewidth='0.5', color='green')\n",
    "plt.grid(which='minor', linestyle=':', linewidth='0.5', color='black')\n",
    "plt.show()"
   ]
  }
 ],
 "metadata": {
  "kernelspec": {
   "display_name": "Python 3",
   "language": "python",
   "name": "python3"
  },
  "language_info": {
   "codemirror_mode": {
    "name": "ipython",
    "version": 3
   },
   "file_extension": ".py",
   "mimetype": "text/x-python",
   "name": "python",
   "nbconvert_exporter": "python",
   "pygments_lexer": "ipython3",
   "version": "3.10.15"
  }
 },
 "nbformat": 4,
 "nbformat_minor": 2
}
